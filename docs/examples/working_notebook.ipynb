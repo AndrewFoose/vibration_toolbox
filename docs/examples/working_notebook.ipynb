{
 "cells": [
  {
   "cell_type": "markdown",
   "metadata": {},
   "source": [
    "# Working Notebook"
   ]
  },
  {
   "cell_type": "code",
   "execution_count": 3,
   "metadata": {},
   "outputs": [],
   "source": [
    "%matplotlib inline\n",
    "import matplotlib.pyplot as plt\n",
    "import numpy as np\n",
    "import scipy as sp\n",
    "import scipy.io as sio\n",
    "import matplotlib as mpl\n",
    "mpl.rcParams['lines.linewidth'] = 2\n",
    "#mpl.rcParams['lines.color'] = 'r'\n",
    "mpl.rcParams['figure.figsize'] = (10, 6)"
   ]
  },
  {
   "cell_type": "code",
   "execution_count": 4,
   "metadata": {},
   "outputs": [
    {
     "name": "stdout",
     "output_type": "stream",
     "text": [
      "Help on function savemat in module scipy.io.matlab.mio:\n",
      "\n",
      "savemat(file_name, mdict, appendmat=True, format='5', long_field_names=False, do_compression=False, oned_as='row')\n",
      "    Save a dictionary of names and arrays into a MATLAB-style .mat file.\n",
      "    \n",
      "    This saves the array objects in the given dictionary to a MATLAB-\n",
      "    style .mat file.\n",
      "    \n",
      "    Parameters\n",
      "    ----------\n",
      "    file_name : str or file-like object\n",
      "        Name of the .mat file (.mat extension not needed if ``appendmat ==\n",
      "        True``).\n",
      "        Can also pass open file_like object.\n",
      "    mdict : dict\n",
      "        Dictionary from which to save matfile variables.\n",
      "    appendmat : bool, optional\n",
      "        True (the default) to append the .mat extension to the end of the\n",
      "        given filename, if not already present.\n",
      "    format : {'5', '4'}, string, optional\n",
      "        '5' (the default) for MATLAB 5 and up (to 7.2),\n",
      "        '4' for MATLAB 4 .mat files\n",
      "    long_field_names : bool, optional\n",
      "        False (the default) - maximum field name length in a structure is\n",
      "        31 characters which is the documented maximum length.\n",
      "        True - maximum field name length in a structure is 63 characters\n",
      "        which works for MATLAB 7.6+\n",
      "    do_compression : bool, optional\n",
      "        Whether or not to compress matrices on write.  Default is False.\n",
      "    oned_as : {'row', 'column'}, optional\n",
      "        If 'column', write 1-D numpy arrays as column vectors.\n",
      "        If 'row', write 1-D numpy arrays as row vectors.\n",
      "    \n",
      "    See also\n",
      "    --------\n",
      "    mio4.MatFile4Writer\n",
      "    mio5.MatFile5Writer\n",
      "\n"
     ]
    }
   ],
   "source": [
    "help(sio.savemat)"
   ]
  },
  {
   "cell_type": "code",
   "execution_count": null,
   "metadata": {
    "collapsed": true
   },
   "outputs": [],
   "source": [
    "% E=7.31e10;\n",
    "% I=1/12*.03*.015^3;\n",
    "% rho=2747;\n",
    "% A=.015*.03;\n",
    "% L=0.4;"
   ]
  },
  {
   "cell_type": "code",
   "execution_count": 9,
   "metadata": {},
   "outputs": [
    {
     "data": {
      "text/plain": [
       "array([  7.31000000e+10,   8.43750000e-09,   2.74700000e+03,\n",
       "         4.50000000e-04,   4.00000000e-01])"
      ]
     },
     "execution_count": 9,
     "metadata": {},
     "output_type": "execute_result"
    }
   ],
   "source": [
    "sp.array((7.31e10, 1/12*0.03*.015**3, 2747, .015*0.03, 0.4))"
   ]
  },
  {
   "cell_type": "code",
   "execution_count": null,
   "metadata": {
    "collapsed": true
   },
   "outputs": [],
   "source": []
  },
  {
   "cell_type": "code",
   "execution_count": 61,
   "metadata": {},
   "outputs": [
    {
     "name": "stdout",
     "output_type": "stream",
     "text": [
      "10\n",
      "[10 10]\n",
      "[10 10]\n",
      "(2,)\n",
      "2\n"
     ]
    }
   ],
   "source": [
    "n = 10\n",
    "print(n)\n",
    "nn = sp.array((n,n))\n",
    "print(nn)\n",
    "nnn = sp.array((nn))\n",
    "print(nnn)\n",
    "print(nn.shape)\n",
    "\n",
    "n = nn\n",
    "if isinstance( n, int ):\n",
    "    ln = 1\n",
    "else:\n",
    "    ln = len(n)\n",
    "print(ln)"
   ]
  },
  {
   "cell_type": "code",
   "execution_count": 197,
   "metadata": {
    "hide_input": false
   },
   "outputs": [],
   "source": [
    "def euler_beam_modes(n = 10, bctype = 2, beamparams=sp.array((7.31e10, 1/12*0.03*.015**3, 2747, .015*0.03, 0.4)), npoints = 2001):\n",
    "\n",
    "\n",
    "    \"\"\"\n",
    "    %VTB6_3 Natural frequencies and mass normalized mode shape for an Euler-\n",
    "    % Bernoulli beam with a chosen boundary condition.\n",
    "    % [w,x,U]=VTB6_3(n,bctype,bmpar,npoints) will return the nth natural \n",
    "    % frequency (w) and mode shape (U) of an Euler-Bernoulli beam.\n",
    "    % If n is a vector, return the coresponding mode shapes and natural\n",
    "    % frequencies.\n",
    "    % With no output arguments the modes are ploted.\n",
    "    % If only one mode is requested, and there are no output arguments, the\n",
    "    % mode shape is animated.\n",
    "    % The boundary condition is defined as follows:\n",
    "    %\n",
    "    % bctype = 1 free-free\n",
    "    % bctype = 2 clamped-free\n",
    "    % bctype = 3 clamped-pinned\n",
    "    % bctype = 4 clamped-sliding\n",
    "    % bctype = 5 clamped-clamped\n",
    "    % bctype = 6 pinned-pinned\n",
    "    %\n",
    "    % The beam parameters are input through the vector bmpar:\n",
    "    % bmpar = [E I rho A L];\n",
    "    % where the variable names are consistent with Section 6.5 of the \n",
    "    % text.\n",
    "    %\n",
    "    %% Example: 20 cm long aluminum beam with h=1.5 cm, b=3 cm\n",
    "    %% Animate the 4th mode for free-free boundary conditions\n",
    "    % E=7.31e10;\n",
    "    % I=1/12*.03*.015^3;\n",
    "    % rho=2747;\n",
    "    % A=.015*.03;\n",
    "    % L=0.2;\n",
    "    % vtb6_3(4,1,[E I rho A L]);\n",
    "    %\n",
    "\n",
    "    % Copyright Joseph C. Slater, 2007\n",
    "    % Engineering Vibration Toolbox\n",
    "    \"\"\"\n",
    "    E=beamparams[0];\n",
    "    I=beamparams[1];\n",
    "    rho=beamparams[2];\n",
    "    A=beamparams[3];\n",
    "    L=beamparams[4];\n",
    "    if isinstance( n, int ):\n",
    "        ln = n\n",
    "        n = sp.arange(n)+1\n",
    "    else:\n",
    "        ln = len(n)\n",
    "\n",
    "    #len=[0:(1/(npoints-1)):1]';  %Normalized length of the beam\n",
    "    len = sp.linspace(0,1,npoints)\n",
    "    x = len * L\n",
    "    #Determine natural frequencies and mode shapes depending on the\n",
    "    #boundary condition.\n",
    "    # Mass simplification. The following was arange_(1,length_(n)).reshape(-1)\n",
    "    mode_num_range = sp.arange(0,ln)\n",
    "    Bnl = sp.empty(ln)\n",
    "    w = sp.empty(ln)\n",
    "    U = sp.empty([npoints, ln])\n",
    "    \n",
    "    if bctype == 1:\n",
    "        desc='Free-Free '\n",
    "        Bnllow=sp.array((0,0,4.73004074486,7.8532046241,10.995607838,14.1371654913,17.2787596574))\n",
    "        for i in mode_num_range:\n",
    "            if n[i] > 7:\n",
    "                Bnl[i]=(2 * n[i] - 3) * sp.pi / 2\n",
    "            else:\n",
    "                Bnl[i]=Bnllow[i]\n",
    "        for i in mode_num_range:\n",
    "            if n[i] == 1:\n",
    "                w[i]=0\n",
    "                U[:,i]=1 + len * 0\n",
    "            elif n[i] == 2:\n",
    "                w[i]=0\n",
    "                U[:,i]=len - 0.5\n",
    "            else:\n",
    "                sig=(sp.cosh(Bnl[i]) - sp.cos(Bnl[i])) / (sp.sinh(Bnl[i]) - sp.sin(Bnl[i]))\n",
    "                w[i]=(Bnl[i] ** 2) * sp.sqrt(E * I / (rho * A * L ** 4))\n",
    "                b=Bnl[i] * len\n",
    "                U[:,i]=sp.cosh(b) + sp.cos(b) - sig * (sp.sinh(b) + sp.sin(b))\n",
    "    elif bctype == 2:\n",
    "        desc='Clamped-Free '\n",
    "        Bnllow=sp.array((1.88,4.69,7.85,10.99,14.14))\n",
    "        for i in mode_num_range:\n",
    "            if n[i] > 4:\n",
    "                Bnl[i]=(2 * n[i] - 1) * sp.pi / 2\n",
    "            else:\n",
    "                Bnl[i]=Bnllow[i]\n",
    "        \n",
    "        for i in mode_num_range:\n",
    "            sig=(sp.sinh(Bnl[i]) - sp.sin(Bnl[i])) / (sp.cosh(Bnl[i]) - sp.cos(Bnl[i]))\n",
    "            w[i]=(Bnl[i] ** 2) * sp.sqrt(E * I / (rho * A * L ** 4))\n",
    "            b=Bnl[i] * len\n",
    "            #plt.plot(x,(sp.cosh(b) - sp.cos(b) - sig * (sp.sinh(b) - sp.sin(b))))\n",
    "            U[:,i]=sp.cosh(b) - sp.cos(b) - sig * (sp.sinh(b) - sp.sin(b))\n",
    "            \n",
    "    elif bctype == 3:\n",
    "        desc='Clamped-Pinned '\n",
    "        Bnllow=sp.array((3.93,7.07,10.21,13.35,16.49))\n",
    "        for i in mode_num_range:\n",
    "            if n[i] > 4:\n",
    "                Bnl[i]=(4 * n[i] + 1) * sp.pi / 4\n",
    "            else:\n",
    "                Bnl[i]=Bnllow[i]\n",
    "        for i in mode_num_range:\n",
    "            sig=(sp.cosh(Bnl[i]) - sp.cos(Bnl[i])) / (sp.sinh(Bnl[i]) - sp.sin(Bnl[i]))\n",
    "            w[i]=(Bnl[i] ** 2) * sp.sqrt(E * I / (rho * A * L ** 4))\n",
    "            b=Bnl[i] * len\n",
    "            U[:,i]=sp.cosh(b) - sp.cos(b) - sig * (sp.sinh(b) - sp.sin(b))\n",
    "    elif bctype == 4:\n",
    "        desc='Clamped-Sliding '\n",
    "        Bnllow=sp.array((2.37,5.5,8.64,11.78,14.92))\n",
    "        for i in mode_num_range:\n",
    "            if n[i] > 4:\n",
    "                Bnl[i]=(4 * n[i] - 1) * sp.pi / 4\n",
    "            else:\n",
    "                Bnl[i]=Bnllow[i]\n",
    "        for i in mode_num_range:\n",
    "            sig=(sp.sinh(Bnl[i]) + sp.sin(Bnl[i])) / (sp.cosh(Bnl[i]) - sp.cos(Bnl[i]))\n",
    "            w[i]=(Bnl[i] ** 2) * sp.sqrt(E * I / (rho * A * L ** 4))\n",
    "            b=Bnl[i] * len\n",
    "            U[:,i]=sp.cosh(b) - sp.cos(b) - sig * (sp.sinh(b) - sp.sin(b))\n",
    "    elif bctype == 5:\n",
    "        desc='Clamped-Clamped '\n",
    "        Bnllow=sp.array((4.73,7.85,11,14.14,17.28))\n",
    "        for i in mode_num_range:\n",
    "            if n[i] > 4:\n",
    "                Bnl[i]=(2 * n[i] + 1) * sp.pi / 2\n",
    "            else:\n",
    "                Bnl[i]=Bnllow[i]\n",
    "        for i in mode_num_range:\n",
    "            sig=(sp.cosh(Bnl[i]) - sp.cos(Bnl[i])) / (sp.sinh(Bnl[i]) - sp.sin(Bnl[i]))\n",
    "            w[i]=(Bnl[i] ** 2) * sp.sqrt(E * I / (rho * A * L ** 4))\n",
    "            b=Bnl[i] * len\n",
    "            U[:,i]=sp.cosh(b) - sp.cos(b) - sig * (sp.sinh(b) - sp.sin(b))\n",
    "    elif bctype == 6:\n",
    "        desc='Pinned-Pinned '\n",
    "        for i in mode_num_range:\n",
    "            Bnl[i]=n[i] * sp.pi\n",
    "            w[i]=(Bnl[i] ** 2) * sp.sqrt(E * I / (rho * A * L ** 4))\n",
    "            U[:,i]=sp.sin(Bnl[i] * len)\n",
    "    \n",
    "    \n",
    "    # Mass Normalization of mode shapes\n",
    "    for i in mode_num_range:\n",
    "        U[:,i]=U[:,i] / sp.sqrt(sp.dot(U[:,i], U[:,i]) * rho * A * L)\n",
    "    \n",
    "    \"\"\"\n",
    "    ppause=0\n",
    "    x=len * L\n",
    "    if nargout == 0:\n",
    "        if length_(n) != 1:\n",
    "            for i in arange_(1,length_(n)).reshape(-1):\n",
    "                plot_(x,U[:,i])\n",
    "                axis_([0,L,min_(min_(U)),max_(max_(U))])\n",
    "                figure_(gcf)\n",
    "                title_([desc,char('  '),char('Mode '),int2str_(i),char('     Natural Frequency = '),num2str_(w[i]),char(' rad/s')])\n",
    "                ylabel_(char('Modal Amplitude'))\n",
    "                xlabel_(char('Length along bar - x'))\n",
    "                grid_(char('on'))\n",
    "                disp_(char('Press return to continue'))\n",
    "                pause\n",
    "        else:\n",
    "            nsteps=50\n",
    "            clf\n",
    "            step=2 * pi / (nsteps)\n",
    "            i=arange_(0,(2 * pi - step),step)\n",
    "            hold_(char('off'))\n",
    "            handle=uicontrol_(char('style'),char('pushbutton'),char('units'),char('normal'),char('backgroundcolor'),char('red'),char('position'),[0.94,0.94,0.05,0.05],char('String'),char('Stop'),char('callback'),char('global stopstop;stopstop=1;'))\n",
    "            handle2=uicontrol_(char('style'),char('pushbutton'),char('units'),char('normal'),char('backgroundcolor'),char('yellow'),char('position'),[0.94,0.87,0.05,0.05],char('String'),char('Pause'),char('callback'),char('global ppause;ppause=1;'))\n",
    "            handle3=uicontrol_(char('style'),char('pushbutton'),char('units'),char('normal'),char('backgroundcolor'),char('green'),char('position'),[0.94,0.8,0.05,0.05],char('String'),char('Resume'),char('callback'),char('global ppause;ppause=0;'))\n",
    "            stopstop=0\n",
    "            bb=0\n",
    "            while stopstop == 0 and bb < 100:\n",
    "\n",
    "                bb=bb + 1\n",
    "                for ii in [i].reshape(-1):\n",
    "                    while ppause == 1:\n",
    "\n",
    "                        pause_(0.01)\n",
    "                        if stopstop == 1:\n",
    "                            delete_(handle)\n",
    "                            delete_(handle2)\n",
    "                            delete_(handle3)\n",
    "                            return w,x,U\n",
    "\n",
    "                    plot_(x,U[:,1] * sp.cos(ii))\n",
    "                    axis_([0,L,- max_(abs_(U)),max_(abs_(U))])\n",
    "                    grid_(char('on'))\n",
    "                    figure_(gcf)\n",
    "                    title_([desc,char('  '),char('Mode '),int2str_(n),char('     \\\\omega_n = '),num2str_(w[1]),char(' rad/s')])\n",
    "                    ylabel_(char('Modal Amplitude'))\n",
    "                    xlabel_(char('Length along bar - x'))\n",
    "                    drawnow\n",
    "\n",
    "            clear_(char('stopstop'))\n",
    "            delete_(handle)\n",
    "            delete_(handle2)\n",
    "            delete_(handle3)\n",
    "    \"\"\"\n",
    "    return w,x,U\n"
   ]
  },
  {
   "cell_type": "code",
   "execution_count": 198,
   "metadata": {},
   "outputs": [],
   "source": [
    "w, x, U = euler_beam_modes(bctype = 3)"
   ]
  },
  {
   "cell_type": "code",
   "execution_count": 199,
   "metadata": {},
   "outputs": [
    {
     "data": {
      "text/plain": [
       "array([   343.17468565,   1110.62890305,   2316.22971002,   3959.97710656,\n",
       "         6044.33457417,   8566.23380692,  11526.7242106 ,  14925.80578518,\n",
       "        18763.47853068,  23039.7424471 ])"
      ]
     },
     "execution_count": 199,
     "metadata": {},
     "output_type": "execute_result"
    }
   ],
   "source": [
    "w/2/sp.pi"
   ]
  },
  {
   "cell_type": "code",
   "execution_count": 201,
   "metadata": {},
   "outputs": [
    {
     "data": {
      "text/plain": [
       "[<matplotlib.lines.Line2D at 0x111e272e8>]"
      ]
     },
     "execution_count": 201,
     "metadata": {},
     "output_type": "execute_result"
    },
    {
     "data": {
      "image/png": "[encoded data removed]",
      "text/plain": [
       "<matplotlib.figure.Figure at 0x1127259e8>"
      ]
     },
     "metadata": {},
     "output_type": "display_data"
    }
   ],
   "source": [
    "plt.plot(x,U[:,0])"
   ]
  },
  {
   "cell_type": "code",
   "execution_count": 233,
   "metadata": {},
   "outputs": [
    {
     "name": "stdout",
     "output_type": "stream",
     "text": [
      "0.043772061790854765\n",
      "0.04377206239552285\n",
      "0.043772063000190875\n",
      "0.04380822974151258\n"
     ]
    }
   ],
   "source": [
    "from scipy.interpolate import UnivariateSpline\n",
    "spl = UnivariateSpline(x, U[:,0])\n",
    "print(spl(0.20000001))\n",
    "print(spl(0.200000015))\n",
    "print(spl(0.20000002))\n",
    "print(spl(0.2003))"
   ]
  },
  {
   "cell_type": "code",
   "execution_count": 369,
   "metadata": {},
   "outputs": [],
   "source": [
    "import matplotlib.pyplot as plt\n",
    "import numpy as np\n",
    "import scipy as sp\n",
    "from scipy.interpolate import UnivariateSpline\n",
    "\n",
    "def euler_beam_frf(xin=0.22,xout=0.22,fmin=0.0,fmax=1000.0,beamparams=sp.array((7.31e10, 1/12*0.03*.015**3, 2747, .015*0.03, 0.4)), bctype = 2, zeta = 0.02):\n",
    "\n",
    "    E=beamparams[0];\n",
    "    I=beamparams[1];\n",
    "    rho=beamparams[2];\n",
    "    A=beamparams[3];\n",
    "    L=beamparams[4];\n",
    "    np=2001\n",
    "    i=0\n",
    "    w=sp.linspace(fmin, fmax, 2001) * 2 * sp.pi\n",
    "    if min([xin,xout]) < 0 or max([xin,xout]) > L:\n",
    "        disp_(char('One or both locations are not on the beam'))\n",
    "        return\n",
    "    wn=sp.array((0,0))\n",
    "    # The number 100 is arbitrarily large and unjustified. \n",
    "    a = sp.empty([np, 100], dtype=complex)\n",
    "    f = sp.empty(100)\n",
    "    \n",
    "    while wn[-1] < 1.3 * (fmax * 2 * sp.pi):\n",
    "\n",
    "        i=i + 1\n",
    "        #legtext[i + 1]=[char('Contribution of mode '),num2str_(i)]\n",
    "        wn,xx,U=euler_beam_modes(i,bctype,beamparams,5000)\n",
    "        spl = UnivariateSpline(xx, U[:,i-1])\n",
    "        Uin = spl(xin)\n",
    "        Uout = spl(xout)\n",
    "        #Uin=spline_(xx,U,xin)\n",
    "        #Uout=spline_(xx,U,xout)\n",
    "        \n",
    "        #print(wn[-1])\n",
    "        #print(w)\n",
    "        a[:,i-1]=rho * A * Uin * Uout / (wn[-1] ** 2 - w ** 2 + 2 * zeta * wn[-1] * w * sp.sqrt(-1))\n",
    "        #print(a[0:10,i])\n",
    "        #plt.plot(sp.log10(sp.absolute(a[:,i])))\n",
    "        #input(\"Press Enter to continue...\")\n",
    "        f[i]=wn[-1] / 2 / sp.pi\n",
    "    a=a[:,0:i]\n",
    "    plt.subplot(211)\n",
    "    plt.plot(w / 2 / sp.pi,20 * sp.log10(sp.absolute(sp.sum(a,axis = 1))),'-')\n",
    "    plt.hold('on')\n",
    "    plt.plot(w / 2 / sp.pi,20 * sp.log10(sp.absolute(a)),'-')\n",
    "    plt.grid('on')\n",
    "    plt.xlabel('Frequency (Hz)')\n",
    "    plt.ylabel('FRF (dB)')\n",
    "    axlim = plt.axis()\n",
    "    \n",
    "    plt.axis(axlim + sp.array([0, 0, -0.1*(axlim[3]-axlim[2]), 0.1*(axlim[3]-axlim[2])]))\n",
    "    \n",
    "    \n",
    "    plt.subplot(212)\n",
    "    plt.plot(w / 2 / sp.pi,sp.unwrap(sp.angle(sp.sum(a,axis = 1))) / sp.pi * 180,'-')\n",
    "    plt.hold('on')\n",
    "    plt.plot(w / 2 / sp.pi,sp.unwrap(sp.angle(a)) / sp.pi * 180,'-')\n",
    "    plt.grid('on')\n",
    "    plt.xlabel('Frequency (Hz)')\n",
    "    plt.ylabel('Phase (deg)')\n",
    "    axlim = plt.axis()\n",
    "    plt.axis(axlim + sp.array([0, 0, -0.1*(axlim[3]-axlim[2]), 0.1*(axlim[3]-axlim[2])]))\n",
    "    \n",
    "\n",
    "    fout=w / 2 / sp.pi\n",
    "    H = a\n",
    "    return fout,H\n"
   ]
  },
  {
   "cell_type": "code",
   "execution_count": 374,
   "metadata": {},
   "outputs": [
    {
     "name": "stdout",
     "output_type": "stream",
     "text": [
      "(0.0, 1000.0, -240.0, -150.0)\n"
     ]
    },
    {
     "data": {
      "image/png": "[encoded data removed]",
      "text/plain": [
       "<matplotlib.figure.Figure at 0x114f18470>"
      ]
     },
     "metadata": {},
     "output_type": "display_data"
    }
   ],
   "source": [
    "fout, H = euler_beam_frf()"
   ]
  },
  {
   "cell_type": "code",
   "execution_count": 349,
   "metadata": {},
   "outputs": [
    {
     "data": {
      "text/plain": [
       "0.0"
      ]
     },
     "execution_count": 349,
     "metadata": {},
     "output_type": "execute_result"
    },
    {
     "data": {
      "image/png": "[encoded data removed]",
      "text/plain": [
       "<matplotlib.figure.Figure at 0x114753390>"
      ]
     },
     "metadata": {},
     "output_type": "display_data"
    }
   ],
   "source": [
    "a =plt.axis()\n",
    "a[0]"
   ]
  },
  {
   "cell_type": "code",
   "execution_count": 329,
   "metadata": {},
   "outputs": [
    {
     "ename": "TypeError",
     "evalue": "can't convert complex to float",
     "output_type": "error",
     "traceback": [
      "\u001b[0;31m---------------------------------------------------------------------------\u001b[0m",
      "\u001b[0;31mTypeError\u001b[0m                                 Traceback (most recent call last)",
      "\u001b[0;32m<ipython-input-329-33d3df78acfc>\u001b[0m in \u001b[0;36m<module>\u001b[0;34m()\u001b[0m\n\u001b[0;32m----> 1\u001b[0;31m \u001b[0mH\u001b[0m\u001b[0;34m[\u001b[0m\u001b[0;36m1\u001b[0m\u001b[0;34m,\u001b[0m\u001b[0;36m1\u001b[0m\u001b[0;34m]\u001b[0m \u001b[0;34m=\u001b[0m \u001b[0;36m1\u001b[0m\u001b[0;34m+\u001b[0m\u001b[0;36m1.j\u001b[0m\u001b[0;34m\u001b[0m\u001b[0m\n\u001b[0m",
      "\u001b[0;31mTypeError\u001b[0m: can't convert complex to float"
     ]
    }
   ],
   "source": [
    "H[1,1] = 1+1.j"
   ]
  },
  {
   "cell_type": "code",
   "execution_count": 224,
   "metadata": {},
   "outputs": [
    {
     "data": {
      "text/plain": [
       "array([  0.00000000e+00,   3.22778969e-05,   1.28565322e-04,\n",
       "         2.88042879e-04,   5.09891177e-04,   7.93290832e-04,\n",
       "         1.13742248e-03,   1.54146679e-03,   2.00460446e-03,\n",
       "         2.52601625e-03])"
      ]
     },
     "execution_count": 224,
     "metadata": {},
     "output_type": "execute_result"
    }
   ],
   "source": [
    "sp.sum(U[0:10,0:10],axis = 1)"
   ]
  },
  {
   "cell_type": "code",
   "execution_count": null,
   "metadata": {
    "collapsed": true
   },
   "outputs": [],
   "source": []
  }
 ],
 "metadata": {
  "hide_input": false,
  "kernelspec": {
   "display_name": "Python 3",
   "language": "python",
   "name": "python3"
  },
  "language_info": {
   "codemirror_mode": {
    "name": "ipython",
    "version": 3
   },
   "file_extension": ".py",
   "mimetype": "text/x-python",
   "name": "python",
   "nbconvert_exporter": "python",
   "pygments_lexer": "ipython3",
   "version": "3.6.1"
  },
  "latex_envs": {
   "bibliofile": "biblio.bib",
   "cite_by": "apalike",
   "current_citInitial": 1,
   "eqLabelWithNumbers": true,
   "eqNumInitial": 0
  }
 },
 "nbformat": 4,
 "nbformat_minor": 1
}
