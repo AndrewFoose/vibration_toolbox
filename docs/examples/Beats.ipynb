{
 "cells": [
  {
   "cell_type": "markdown",
   "metadata": {},
   "source": [
    "# Beat phenomenon"
   ]
  },
  {
   "cell_type": "code",
   "execution_count": 1,
   "metadata": {
    "collapsed": true
   },
   "outputs": [],
   "source": [
    "import scipy as sp\n",
    "import matplotlib.pyplot as plt\n",
    "from ipywidgets import interact, interactive, widgets\n",
    "from IPython.display import Audio, display\n",
    "%matplotlib inline\n",
    "import vibration_toolbox as vt\n",
    "%load_ext autoreload\n",
    "%autoreload 2"
   ]
  },
  {
   "cell_type": "markdown",
   "metadata": {},
   "source": [
    "In this notebook we will investigate a phenomena that occurs when the driving frequency becomes close  to  the  system’s  natural  frequency. "
   ]
  },
  {
   "cell_type": "markdown",
   "metadata": {},
   "source": [
    "For zero initial conditions, the response is given by the equation:\n",
    "\n",
    "\\begin{equation}\n",
    "x(t) = \\frac{2f_0}{\\omega^2_n - \\omega^2} sin\\Big(\\frac{\\omega_n - \\omega}{2} t\\Big) sin\\Big(\\frac{\\omega_n + \\omega}{2}t\\Big)\n",
    "\\end{equation}\n",
    "\n",
    "Since $(\\omega_n - \\omega)$ is small, $(\\omega_n + \\omega)$ is large in comparison and $sin[(\\omega_n - \\omega)/2]t$ oscillates with a longer period than $sin[(\\omega_n + \\omega)/2]t$. \n",
    "The result is a rapid oscillation with slowly varying amplitude that is called a **beat**.\n",
    "\n",
    "The system defined in the function bellow has a a natural frequency $\\omega_n = 1000 \\ rad/s$. \n",
    "\n",
    "You can change the excitation frequency moving the slide 'wdr' and hear the resulting sound.\n",
    "\n",
    "When you get close to the natural frequency you will be able to recognize the beats."
   ]
  },
  {
   "cell_type": "code",
   "execution_count": 17,
   "metadata": {
    "collapsed": true,
    "scrolled": false
   },
   "outputs": [],
   "source": [
    "#@interact(wdr=widgets.FloatSlider(min=900.1, max=1100.1, step=1, value=1100))\n",
    "def f(wdr):\n",
    "    t, a = vt.forced_analytical(m=1, k=10**6, x0=0, v0=0, wdr=wdr, F0=200, tf=5)\n",
    "    #fig1 = plt.figure()\n",
    "    #ax1 = fig1.add_subplot(111)\n",
    "    display(Audio(data=a, rate=1/0.000125))\n",
    "    plt.plot(t, a, alpha=0.5)\n",
    "    plt.show()\n",
    "    #ax1.set_xlim([0, 1])\n",
    "    #ax1.set_ylim([-0.1, 0.1])\n",
    "    "
   ]
  },
  {
   "cell_type": "code",
   "execution_count": 18,
   "metadata": {},
   "outputs": [
    {
     "data": {
      "application/vnd.jupyter.widget-view+json": {
       "model_id": "c27cbdb6508044a98b3d571d0e2670de"
      }
     },
     "metadata": {},
     "output_type": "display_data"
    }
   ],
   "source": [
    "w = interactive(f,wdr = (900.1,1100.1,1));\n",
    "display(w);"
   ]
  }
 ],
 "metadata": {
  "hide_input": false,
  "kernelspec": {
   "display_name": "Python 3",
   "language": "python",
   "name": "python3"
  },
  "language_info": {
   "codemirror_mode": {
    "name": "ipython",
    "version": 3
   },
   "file_extension": ".py",
   "mimetype": "text/x-python",
   "name": "python",
   "nbconvert_exporter": "python",
   "pygments_lexer": "ipython3",
   "version": "3.6.1"
  },
  "latex_envs": {
   "bibliofile": "biblio.bib",
   "cite_by": "apalike",
   "current_citInitial": 1,
   "eqLabelWithNumbers": true,
   "eqNumInitial": 0
  }
 },
 "nbformat": 4,
 "nbformat_minor": 1
}
